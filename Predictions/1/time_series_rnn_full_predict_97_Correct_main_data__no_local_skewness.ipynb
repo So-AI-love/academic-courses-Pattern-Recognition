{
  "nbformat": 4,
  "nbformat_minor": 0,
  "metadata": {
    "accelerator": "GPU",
    "colab": {
      "name": "time-series-rnn-full-predict.ipynb",
      "provenance": [],
      "toc_visible": true,
      "include_colab_link": true
    },
    "kernelspec": {
      "display_name": "Python 3",
      "language": "python",
      "name": "python3"
    },
    "language_info": {
      "codemirror_mode": {
        "name": "ipython",
        "version": 3
      },
      "file_extension": ".py",
      "mimetype": "text/x-python",
      "name": "python",
      "nbconvert_exporter": "python",
      "pygments_lexer": "ipython3",
      "version": "3.7.4"
    }
  },
  "cells": [
    {
      "cell_type": "markdown",
      "metadata": {
        "id": "view-in-github",
        "colab_type": "text"
      },
      "source": [
        "<a href=\"https://colab.research.google.com/github/So-AI-love/academic-courses-Pattern-Recognition/blob/main/Predictions/1/time_series_rnn_full_predict_97_Correct_main_data__no_local_skewness.ipynb\" target=\"_parent\"><img src=\"https://colab.research.google.com/assets/colab-badge.svg\" alt=\"Open In Colab\"/></a>"
      ]
    },
    {
      "cell_type": "markdown",
      "metadata": {
        "id": "HpkREOSHoYO7"
      },
      "source": [
        "This is a good ( **99% correct**) prediction for so-so.csv Data (5 input and 1 output). this page made from this Colab Page:\n",
        "\n",
        "> Indented block\n",
        "\n",
        "\n",
        "\n",
        "https://colab.research.google.com/github/DJCordhose/ml-workshop/blob/master/notebooks/tf2/time-series-rnn-full-predict.ipynb#scrollTo=WJJcT-mZh915\n"
      ]
    },
    {
      "cell_type": "code",
      "metadata": {
        "id": "q3rhk9B-cvS4"
      },
      "source": [
        "\n",
        "# import os,sys\n",
        "\n",
        "# sys.path.insert(0,'/content/')\n",
        "# if not os.path.exists(\"/root/.ipython/ocr.py\"):\n",
        "#     from subprocess import run\n",
        "#     from shlex import split\n",
        "\n",
        "#     shellCmd = \"wget -qq https://raw.githubusercontent.com/biplobsd/OneClickRun/master/res/ocr.py \\\n",
        "#                     -O /content/ocr.py\"\n",
        "#     run(split(shellCmd))\n",
        "# from ocr import runSh\n",
        "\n",
        "# def runShT(args):\n",
        "#     return runSh(args, output=True)\n",
        "# runShT('bash simple_shell_script.sh')"
      ],
      "execution_count": 1,
      "outputs": []
    },
    {
      "cell_type": "code",
      "metadata": {
        "id": "gU5vS10jcZ9c"
      },
      "source": [
        "# %%writefile simple_shell_script2.sh\n",
        "# Current_dir=$PWD\n",
        "# echo \"current dir is ${Current_dir}\"\n",
        "# # from google.colab import drive\n",
        "# # drive.mount('/content/gdrive')\n",
        "# # !cp '/content/gdrive/MyDrive/Amir Farzin Project/so-so.csv' /content/stock-prediction\n",
        "# # !wget https://transfer.sh/o5273/so-so.csv\n",
        "# echo \"cd ${Current_dir}\"\n",
        "# cd ${Current_dir}//stock-prediction\n",
        "\n",
        "# git clone https://github.com/So-AI-love/Test_NN\n",
        "# unzip -o  \"${Current_dir}/Test_NN/so-so.zip\" -d \"${Current_dir}/Test_NN\"\n",
        "# cp \"${Current_dir}/Test_NN/so-so.csv\" \"${Current_dir}/\""
      ],
      "execution_count": 2,
      "outputs": []
    },
    {
      "cell_type": "code",
      "metadata": {
        "colab": {
          "base_uri": "https://localhost:8080/"
        },
        "id": "AhLOaI83cjdx",
        "outputId": "1251b8d5-a64d-4e80-8824-875f4d62d64f"
      },
      "source": [
        "!pwd "
      ],
      "execution_count": 3,
      "outputs": [
        {
          "output_type": "stream",
          "text": [
            "/content\n"
          ],
          "name": "stdout"
        }
      ]
    },
    {
      "cell_type": "code",
      "metadata": {
        "id": "QKiL-9Uscd1T"
      },
      "source": [
        "# runShT('bash simple_shell_script2.sh')"
      ],
      "execution_count": 4,
      "outputs": []
    },
    {
      "cell_type": "code",
      "metadata": {
        "colab": {
          "base_uri": "https://localhost:8080/"
        },
        "id": "efMAHARIBx7t",
        "outputId": "2c4cdb4e-7a7a-4ae4-8417-f9f395d942b6"
      },
      "source": [
        "!pip install google-colab"
      ],
      "execution_count": 5,
      "outputs": [
        {
          "output_type": "stream",
          "text": [
            "Requirement already satisfied: google-colab in /usr/local/lib/python3.7/dist-packages (1.0.0)\n",
            "Requirement already satisfied: requests~=2.23.0 in /usr/local/lib/python3.7/dist-packages (from google-colab) (2.23.0)\n",
            "Requirement already satisfied: google-auth>=1.17.2 in /usr/local/lib/python3.7/dist-packages (from google-colab) (1.28.1)\n",
            "Requirement already satisfied: ipykernel~=4.10 in /usr/local/lib/python3.7/dist-packages (from google-colab) (4.10.1)\n",
            "Requirement already satisfied: tornado~=5.1.0; python_version >= \"3.0\" in /usr/local/lib/python3.7/dist-packages (from google-colab) (5.1.1)\n",
            "Requirement already satisfied: six~=1.15.0 in /usr/local/lib/python3.7/dist-packages (from google-colab) (1.15.0)\n",
            "Requirement already satisfied: portpicker~=1.3.1 in /usr/local/lib/python3.7/dist-packages (from google-colab) (1.3.1)\n",
            "Requirement already satisfied: pandas~=1.1.0; python_version >= \"3.0\" in /usr/local/lib/python3.7/dist-packages (from google-colab) (1.1.5)\n",
            "Requirement already satisfied: ipython~=5.5.0 in /usr/local/lib/python3.7/dist-packages (from google-colab) (5.5.0)\n",
            "Requirement already satisfied: astor~=0.8.1 in /usr/local/lib/python3.7/dist-packages (from google-colab) (0.8.1)\n",
            "Requirement already satisfied: notebook~=5.3.0; python_version >= \"3.0\" in /usr/local/lib/python3.7/dist-packages (from google-colab) (5.3.1)\n",
            "Requirement already satisfied: chardet<4,>=3.0.2 in /usr/local/lib/python3.7/dist-packages (from requests~=2.23.0->google-colab) (3.0.4)\n",
            "Requirement already satisfied: idna<3,>=2.5 in /usr/local/lib/python3.7/dist-packages (from requests~=2.23.0->google-colab) (2.10)\n",
            "Requirement already satisfied: certifi>=2017.4.17 in /usr/local/lib/python3.7/dist-packages (from requests~=2.23.0->google-colab) (2020.12.5)\n",
            "Requirement already satisfied: urllib3!=1.25.0,!=1.25.1,<1.26,>=1.21.1 in /usr/local/lib/python3.7/dist-packages (from requests~=2.23.0->google-colab) (1.24.3)\n",
            "Requirement already satisfied: pyasn1-modules>=0.2.1 in /usr/local/lib/python3.7/dist-packages (from google-auth>=1.17.2->google-colab) (0.2.8)\n",
            "Requirement already satisfied: setuptools>=40.3.0 in /usr/local/lib/python3.7/dist-packages (from google-auth>=1.17.2->google-colab) (56.0.0)\n",
            "Requirement already satisfied: cachetools<5.0,>=2.0.0 in /usr/local/lib/python3.7/dist-packages (from google-auth>=1.17.2->google-colab) (4.2.1)\n",
            "Requirement already satisfied: rsa<5,>=3.1.4; python_version >= \"3.6\" in /usr/local/lib/python3.7/dist-packages (from google-auth>=1.17.2->google-colab) (4.7.2)\n",
            "Requirement already satisfied: traitlets>=4.1.0 in /usr/local/lib/python3.7/dist-packages (from ipykernel~=4.10->google-colab) (5.0.5)\n",
            "Requirement already satisfied: jupyter-client in /usr/local/lib/python3.7/dist-packages (from ipykernel~=4.10->google-colab) (5.3.5)\n",
            "Requirement already satisfied: numpy>=1.15.4 in /usr/local/lib/python3.7/dist-packages (from pandas~=1.1.0; python_version >= \"3.0\"->google-colab) (1.19.5)\n",
            "Requirement already satisfied: pytz>=2017.2 in /usr/local/lib/python3.7/dist-packages (from pandas~=1.1.0; python_version >= \"3.0\"->google-colab) (2018.9)\n",
            "Requirement already satisfied: python-dateutil>=2.7.3 in /usr/local/lib/python3.7/dist-packages (from pandas~=1.1.0; python_version >= \"3.0\"->google-colab) (2.8.1)\n",
            "Requirement already satisfied: prompt-toolkit<2.0.0,>=1.0.4 in /usr/local/lib/python3.7/dist-packages (from ipython~=5.5.0->google-colab) (1.0.18)\n",
            "Requirement already satisfied: simplegeneric>0.8 in /usr/local/lib/python3.7/dist-packages (from ipython~=5.5.0->google-colab) (0.8.1)\n",
            "Requirement already satisfied: pygments in /usr/local/lib/python3.7/dist-packages (from ipython~=5.5.0->google-colab) (2.6.1)\n",
            "Requirement already satisfied: pickleshare in /usr/local/lib/python3.7/dist-packages (from ipython~=5.5.0->google-colab) (0.7.5)\n",
            "Requirement already satisfied: pexpect; sys_platform != \"win32\" in /usr/local/lib/python3.7/dist-packages (from ipython~=5.5.0->google-colab) (4.8.0)\n",
            "Requirement already satisfied: decorator in /usr/local/lib/python3.7/dist-packages (from ipython~=5.5.0->google-colab) (4.4.2)\n",
            "Requirement already satisfied: terminado>=0.8.1 in /usr/local/lib/python3.7/dist-packages (from notebook~=5.3.0; python_version >= \"3.0\"->google-colab) (0.9.4)\n",
            "Requirement already satisfied: Send2Trash in /usr/local/lib/python3.7/dist-packages (from notebook~=5.3.0; python_version >= \"3.0\"->google-colab) (1.5.0)\n",
            "Requirement already satisfied: jinja2 in /usr/local/lib/python3.7/dist-packages (from notebook~=5.3.0; python_version >= \"3.0\"->google-colab) (2.11.3)\n",
            "Requirement already satisfied: nbformat in /usr/local/lib/python3.7/dist-packages (from notebook~=5.3.0; python_version >= \"3.0\"->google-colab) (5.1.3)\n",
            "Requirement already satisfied: ipython-genutils in /usr/local/lib/python3.7/dist-packages (from notebook~=5.3.0; python_version >= \"3.0\"->google-colab) (0.2.0)\n",
            "Requirement already satisfied: jupyter-core>=4.4.0 in /usr/local/lib/python3.7/dist-packages (from notebook~=5.3.0; python_version >= \"3.0\"->google-colab) (4.7.1)\n",
            "Requirement already satisfied: nbconvert in /usr/local/lib/python3.7/dist-packages (from notebook~=5.3.0; python_version >= \"3.0\"->google-colab) (5.6.1)\n",
            "Requirement already satisfied: pyasn1<0.5.0,>=0.4.6 in /usr/local/lib/python3.7/dist-packages (from pyasn1-modules>=0.2.1->google-auth>=1.17.2->google-colab) (0.4.8)\n",
            "Requirement already satisfied: pyzmq>=13 in /usr/local/lib/python3.7/dist-packages (from jupyter-client->ipykernel~=4.10->google-colab) (22.0.3)\n",
            "Requirement already satisfied: wcwidth in /usr/local/lib/python3.7/dist-packages (from prompt-toolkit<2.0.0,>=1.0.4->ipython~=5.5.0->google-colab) (0.2.5)\n",
            "Requirement already satisfied: ptyprocess>=0.5 in /usr/local/lib/python3.7/dist-packages (from pexpect; sys_platform != \"win32\"->ipython~=5.5.0->google-colab) (0.7.0)\n",
            "Requirement already satisfied: MarkupSafe>=0.23 in /usr/local/lib/python3.7/dist-packages (from jinja2->notebook~=5.3.0; python_version >= \"3.0\"->google-colab) (1.1.1)\n",
            "Requirement already satisfied: jsonschema!=2.5.0,>=2.4 in /usr/local/lib/python3.7/dist-packages (from nbformat->notebook~=5.3.0; python_version >= \"3.0\"->google-colab) (2.6.0)\n",
            "Requirement already satisfied: pandocfilters>=1.4.1 in /usr/local/lib/python3.7/dist-packages (from nbconvert->notebook~=5.3.0; python_version >= \"3.0\"->google-colab) (1.4.3)\n",
            "Requirement already satisfied: entrypoints>=0.2.2 in /usr/local/lib/python3.7/dist-packages (from nbconvert->notebook~=5.3.0; python_version >= \"3.0\"->google-colab) (0.3)\n",
            "Requirement already satisfied: defusedxml in /usr/local/lib/python3.7/dist-packages (from nbconvert->notebook~=5.3.0; python_version >= \"3.0\"->google-colab) (0.7.1)\n",
            "Requirement already satisfied: mistune<2,>=0.8.1 in /usr/local/lib/python3.7/dist-packages (from nbconvert->notebook~=5.3.0; python_version >= \"3.0\"->google-colab) (0.8.4)\n",
            "Requirement already satisfied: testpath in /usr/local/lib/python3.7/dist-packages (from nbconvert->notebook~=5.3.0; python_version >= \"3.0\"->google-colab) (0.4.4)\n",
            "Requirement already satisfied: bleach in /usr/local/lib/python3.7/dist-packages (from nbconvert->notebook~=5.3.0; python_version >= \"3.0\"->google-colab) (3.3.0)\n",
            "Requirement already satisfied: packaging in /usr/local/lib/python3.7/dist-packages (from bleach->nbconvert->notebook~=5.3.0; python_version >= \"3.0\"->google-colab) (20.9)\n",
            "Requirement already satisfied: webencodings in /usr/local/lib/python3.7/dist-packages (from bleach->nbconvert->notebook~=5.3.0; python_version >= \"3.0\"->google-colab) (0.5.1)\n",
            "Requirement already satisfied: pyparsing>=2.0.2 in /usr/local/lib/python3.7/dist-packages (from packaging->bleach->nbconvert->notebook~=5.3.0; python_version >= \"3.0\"->google-colab) (2.4.7)\n"
          ],
          "name": "stdout"
        }
      ]
    },
    {
      "cell_type": "code",
      "metadata": {
        "colab": {
          "base_uri": "https://localhost:8080/"
        },
        "id": "1R52neZWBlSn",
        "outputId": "509839e5-934a-4202-e22e-61904985fe57"
      },
      "source": [
        "from google.colab import files , drive\n",
        "# files.upload()\n",
        "drive.mount('/content/gdrive')\n"
      ],
      "execution_count": 6,
      "outputs": [
        {
          "output_type": "stream",
          "text": [
            "Mounted at /content/gdrive\n"
          ],
          "name": "stdout"
        }
      ]
    },
    {
      "cell_type": "code",
      "metadata": {
        "id": "fJgo6qNldjFT"
      },
      "source": [
        "import pandas as pd\n",
        "# data_dir = \"https://dlsun.github.io/pods/data/\"\n",
        "# df_ames = pd.read_csv(data_dir + \"AmesHousing.txt\", sep=\"\\t\")\n",
        "# df_ames.head()"
      ],
      "execution_count": 7,
      "outputs": []
    },
    {
      "cell_type": "code",
      "metadata": {
        "id": "i6DQVUUXM0Q-",
        "colab": {
          "base_uri": "https://localhost:8080/",
          "height": 206
        },
        "outputId": "46155044-d00e-464b-d79c-db8e1e0c6bb5"
      },
      "source": [
        "\n",
        "# df = pd.read_csv('so-so.csv')\n",
        "# df=pd.read_csv('/home/so/Downloads/Telegram Desktop/Data_08_2020_input.csv')\n",
        "# df2=pd.read_csv('/home/so/Downloads/Telegram Desktop/Data_08_2020_output - S.csv')\n",
        "\n",
        "df=pd.read_csv('/content/gdrive/MyDrive/Amir Farzin Secure Data/Data_08_2020_input.csv')\n",
        "df2=pd.read_csv('/content/gdrive/MyDrive/Amir Farzin Secure Data/Data_08_2020_output - S.csv')\n",
        "\n",
        "df.head()\n",
        "df2.head()\n"
      ],
      "execution_count": 9,
      "outputs": [
        {
          "output_type": "execute_result",
          "data": {
            "text/html": [
              "<div>\n",
              "<style scoped>\n",
              "    .dataframe tbody tr th:only-of-type {\n",
              "        vertical-align: middle;\n",
              "    }\n",
              "\n",
              "    .dataframe tbody tr th {\n",
              "        vertical-align: top;\n",
              "    }\n",
              "\n",
              "    .dataframe thead th {\n",
              "        text-align: right;\n",
              "    }\n",
              "</style>\n",
              "<table border=\"1\" class=\"dataframe\">\n",
              "  <thead>\n",
              "    <tr style=\"text-align: right;\">\n",
              "      <th></th>\n",
              "      <th>Time</th>\n",
              "      <th>CO2</th>\n",
              "    </tr>\n",
              "  </thead>\n",
              "  <tbody>\n",
              "    <tr>\n",
              "      <th>0</th>\n",
              "      <td>17-08-20 0:00</td>\n",
              "      <td>291.252600</td>\n",
              "    </tr>\n",
              "    <tr>\n",
              "      <th>1</th>\n",
              "      <td>17-08-20 0:01</td>\n",
              "      <td>291.656027</td>\n",
              "    </tr>\n",
              "    <tr>\n",
              "      <th>2</th>\n",
              "      <td>17-08-20 0:02</td>\n",
              "      <td>288.467146</td>\n",
              "    </tr>\n",
              "    <tr>\n",
              "      <th>3</th>\n",
              "      <td>17-08-20 0:03</td>\n",
              "      <td>282.867887</td>\n",
              "    </tr>\n",
              "    <tr>\n",
              "      <th>4</th>\n",
              "      <td>17-08-20 0:04</td>\n",
              "      <td>283.057879</td>\n",
              "    </tr>\n",
              "  </tbody>\n",
              "</table>\n",
              "</div>"
            ],
            "text/plain": [
              "            Time         CO2\n",
              "0  17-08-20 0:00  291.252600\n",
              "1  17-08-20 0:01  291.656027\n",
              "2  17-08-20 0:02  288.467146\n",
              "3  17-08-20 0:03  282.867887\n",
              "4  17-08-20 0:04  283.057879"
            ]
          },
          "metadata": {
            "tags": []
          },
          "execution_count": 9
        }
      ]
    },
    {
      "cell_type": "code",
      "metadata": {
        "colab": {
          "base_uri": "https://localhost:8080/",
          "height": 400
        },
        "id": "VTofr6_sRB1J",
        "outputId": "a6ab9433-9ec1-4440-f492-5b3258ba7228"
      },
      "source": [
        "df.head()\n"
      ],
      "execution_count": 10,
      "outputs": [
        {
          "output_type": "execute_result",
          "data": {
            "text/html": [
              "<div>\n",
              "<style scoped>\n",
              "    .dataframe tbody tr th:only-of-type {\n",
              "        vertical-align: middle;\n",
              "    }\n",
              "\n",
              "    .dataframe tbody tr th {\n",
              "        vertical-align: top;\n",
              "    }\n",
              "\n",
              "    .dataframe thead th {\n",
              "        text-align: right;\n",
              "    }\n",
              "</style>\n",
              "<table border=\"1\" class=\"dataframe\">\n",
              "  <thead>\n",
              "    <tr style=\"text-align: right;\">\n",
              "      <th></th>\n",
              "      <th>Time</th>\n",
              "      <th>FIC_1321_SP</th>\n",
              "      <th>FIC_1321_PV</th>\n",
              "      <th>FIC_1321_OUT</th>\n",
              "      <th>RIC_1311_SP</th>\n",
              "      <th>RIC_1311_PV</th>\n",
              "      <th>RIC_1311_OUT</th>\n",
              "      <th>RIC_1320_SP</th>\n",
              "      <th>RIC_1320_PV</th>\n",
              "      <th>RIC_1320_OUT</th>\n",
              "      <th>TIC_1150_SP</th>\n",
              "      <th>TIC_1150_PV</th>\n",
              "      <th>TIC_1150_OUT</th>\n",
              "      <th>TIC_1250_SP</th>\n",
              "      <th>TIC_1250_PV</th>\n",
              "      <th>TIC_1250_OUT</th>\n",
              "      <th>PDIC_1413_SP</th>\n",
              "      <th>PDIC_1413_PV</th>\n",
              "      <th>PDIC_1413_OUT</th>\n",
              "      <th>FIC_204_SP</th>\n",
              "      <th>FIC_204_PV</th>\n",
              "      <th>FIC_204_OUT</th>\n",
              "      <th>FIC_205_SP</th>\n",
              "      <th>FIC_205_PV</th>\n",
              "      <th>FIC_205_OUT</th>\n",
              "      <th>FIC_602_SP</th>\n",
              "      <th>FIC_602_PV</th>\n",
              "      <th>FIC_602_OUT</th>\n",
              "      <th>FIC_1360_SP</th>\n",
              "      <th>FIC_1360_PV</th>\n",
              "      <th>FIC_1360_OUT</th>\n",
              "      <th>PIC_329_SP</th>\n",
              "      <th>PIC_329_PV</th>\n",
              "      <th>PIC_329_OUT</th>\n",
              "      <th>FIC_202_SP</th>\n",
              "      <th>FIC_202_PV</th>\n",
              "      <th>FIC_202_OUT</th>\n",
              "      <th>FIC_203_SP</th>\n",
              "      <th>FIC_203_PV</th>\n",
              "      <th>FIC_203_OUT</th>\n",
              "      <th>TI_3733-1_PV</th>\n",
              "      <th>TI_3130_PV</th>\n",
              "      <th>TY_1329_PV</th>\n",
              "      <th>TY_1331_PV</th>\n",
              "      <th>AI_151_PV</th>\n",
              "      <th>TI_252-1_PV</th>\n",
              "    </tr>\n",
              "  </thead>\n",
              "  <tbody>\n",
              "    <tr>\n",
              "      <th>0</th>\n",
              "      <td>17-Aug-20 00:00:00</td>\n",
              "      <td>60.519039</td>\n",
              "      <td>60.491921</td>\n",
              "      <td>57.805900</td>\n",
              "      <td>3.317911</td>\n",
              "      <td>3.317911</td>\n",
              "      <td>21150.0</td>\n",
              "      <td>3.345023</td>\n",
              "      <td>3.345108</td>\n",
              "      <td>37228.85942</td>\n",
              "      <td>760.799988</td>\n",
              "      <td>761.044315</td>\n",
              "      <td>1.812243</td>\n",
              "      <td>760.200012</td>\n",
              "      <td>760.329042</td>\n",
              "      <td>1.795578</td>\n",
              "      <td>1.087846</td>\n",
              "      <td>1.087846</td>\n",
              "      <td>22.0</td>\n",
              "      <td>410.0</td>\n",
              "      <td>408.058692</td>\n",
              "      <td>69.331706</td>\n",
              "      <td>410.0</td>\n",
              "      <td>412.411950</td>\n",
              "      <td>65.635773</td>\n",
              "      <td>6000.0</td>\n",
              "      <td>5989.442423</td>\n",
              "      <td>11.809569</td>\n",
              "      <td>3554.202036</td>\n",
              "      <td>3554.202036</td>\n",
              "      <td>74.0</td>\n",
              "      <td>26.0</td>\n",
              "      <td>25.992372</td>\n",
              "      <td>92.594480</td>\n",
              "      <td>81.0</td>\n",
              "      <td>80.833493</td>\n",
              "      <td>33.525105</td>\n",
              "      <td>81.0</td>\n",
              "      <td>80.807097</td>\n",
              "      <td>35.470481</td>\n",
              "      <td>29.864918</td>\n",
              "      <td>18.835617</td>\n",
              "      <td>1101.628345</td>\n",
              "      <td>948.276040</td>\n",
              "      <td>0.377546</td>\n",
              "      <td>178.434269</td>\n",
              "    </tr>\n",
              "    <tr>\n",
              "      <th>1</th>\n",
              "      <td>17-Aug-20 00:01:00</td>\n",
              "      <td>60.519039</td>\n",
              "      <td>60.573661</td>\n",
              "      <td>57.791111</td>\n",
              "      <td>3.317911</td>\n",
              "      <td>3.317911</td>\n",
              "      <td>21150.0</td>\n",
              "      <td>3.341907</td>\n",
              "      <td>3.342012</td>\n",
              "      <td>37228.29533</td>\n",
              "      <td>760.799988</td>\n",
              "      <td>761.042964</td>\n",
              "      <td>1.812041</td>\n",
              "      <td>760.200012</td>\n",
              "      <td>760.323124</td>\n",
              "      <td>1.795520</td>\n",
              "      <td>1.087690</td>\n",
              "      <td>1.087690</td>\n",
              "      <td>22.0</td>\n",
              "      <td>410.0</td>\n",
              "      <td>408.532078</td>\n",
              "      <td>69.470408</td>\n",
              "      <td>410.0</td>\n",
              "      <td>412.140233</td>\n",
              "      <td>65.640992</td>\n",
              "      <td>6000.0</td>\n",
              "      <td>5990.331913</td>\n",
              "      <td>11.819274</td>\n",
              "      <td>3552.880731</td>\n",
              "      <td>3552.880731</td>\n",
              "      <td>74.0</td>\n",
              "      <td>26.0</td>\n",
              "      <td>25.999317</td>\n",
              "      <td>93.633696</td>\n",
              "      <td>81.0</td>\n",
              "      <td>80.913462</td>\n",
              "      <td>33.588194</td>\n",
              "      <td>81.0</td>\n",
              "      <td>80.536010</td>\n",
              "      <td>35.563675</td>\n",
              "      <td>29.863531</td>\n",
              "      <td>18.806534</td>\n",
              "      <td>1101.652565</td>\n",
              "      <td>948.227688</td>\n",
              "      <td>0.377306</td>\n",
              "      <td>178.422690</td>\n",
              "    </tr>\n",
              "    <tr>\n",
              "      <th>2</th>\n",
              "      <td>17-Aug-20 00:02:00</td>\n",
              "      <td>60.519039</td>\n",
              "      <td>60.525547</td>\n",
              "      <td>57.817259</td>\n",
              "      <td>3.317911</td>\n",
              "      <td>3.317911</td>\n",
              "      <td>21150.0</td>\n",
              "      <td>3.343107</td>\n",
              "      <td>3.343039</td>\n",
              "      <td>37243.92034</td>\n",
              "      <td>760.799988</td>\n",
              "      <td>761.041421</td>\n",
              "      <td>1.812067</td>\n",
              "      <td>760.200012</td>\n",
              "      <td>760.349170</td>\n",
              "      <td>1.795539</td>\n",
              "      <td>1.087369</td>\n",
              "      <td>1.087369</td>\n",
              "      <td>22.0</td>\n",
              "      <td>410.0</td>\n",
              "      <td>408.159187</td>\n",
              "      <td>69.575323</td>\n",
              "      <td>410.0</td>\n",
              "      <td>410.562369</td>\n",
              "      <td>65.731597</td>\n",
              "      <td>6000.0</td>\n",
              "      <td>5984.962090</td>\n",
              "      <td>11.842718</td>\n",
              "      <td>3545.332073</td>\n",
              "      <td>3545.332073</td>\n",
              "      <td>74.0</td>\n",
              "      <td>26.0</td>\n",
              "      <td>26.003898</td>\n",
              "      <td>93.751042</td>\n",
              "      <td>81.0</td>\n",
              "      <td>81.052741</td>\n",
              "      <td>33.730155</td>\n",
              "      <td>81.0</td>\n",
              "      <td>80.592873</td>\n",
              "      <td>35.613573</td>\n",
              "      <td>29.862143</td>\n",
              "      <td>18.804466</td>\n",
              "      <td>1101.737909</td>\n",
              "      <td>948.318011</td>\n",
              "      <td>0.377958</td>\n",
              "      <td>178.378130</td>\n",
              "    </tr>\n",
              "    <tr>\n",
              "      <th>3</th>\n",
              "      <td>17-Aug-20 00:03:00</td>\n",
              "      <td>60.519039</td>\n",
              "      <td>60.503820</td>\n",
              "      <td>57.830657</td>\n",
              "      <td>3.317911</td>\n",
              "      <td>3.317911</td>\n",
              "      <td>21150.0</td>\n",
              "      <td>3.342583</td>\n",
              "      <td>3.342583</td>\n",
              "      <td>37235.57606</td>\n",
              "      <td>760.799988</td>\n",
              "      <td>761.042077</td>\n",
              "      <td>1.812122</td>\n",
              "      <td>760.200012</td>\n",
              "      <td>760.366613</td>\n",
              "      <td>1.795609</td>\n",
              "      <td>1.085633</td>\n",
              "      <td>1.085633</td>\n",
              "      <td>22.0</td>\n",
              "      <td>410.0</td>\n",
              "      <td>408.659043</td>\n",
              "      <td>69.568745</td>\n",
              "      <td>410.0</td>\n",
              "      <td>410.050967</td>\n",
              "      <td>65.744806</td>\n",
              "      <td>6000.0</td>\n",
              "      <td>5986.416733</td>\n",
              "      <td>11.854616</td>\n",
              "      <td>3542.121978</td>\n",
              "      <td>3542.121978</td>\n",
              "      <td>74.0</td>\n",
              "      <td>26.0</td>\n",
              "      <td>25.999462</td>\n",
              "      <td>93.342203</td>\n",
              "      <td>81.0</td>\n",
              "      <td>80.893861</td>\n",
              "      <td>33.772829</td>\n",
              "      <td>81.0</td>\n",
              "      <td>81.011394</td>\n",
              "      <td>35.753719</td>\n",
              "      <td>29.860755</td>\n",
              "      <td>18.823079</td>\n",
              "      <td>1101.876815</td>\n",
              "      <td>948.502915</td>\n",
              "      <td>0.379097</td>\n",
              "      <td>178.333710</td>\n",
              "    </tr>\n",
              "    <tr>\n",
              "      <th>4</th>\n",
              "      <td>17-Aug-20 00:04:00</td>\n",
              "      <td>60.519039</td>\n",
              "      <td>60.520480</td>\n",
              "      <td>57.830769</td>\n",
              "      <td>3.317911</td>\n",
              "      <td>3.317911</td>\n",
              "      <td>21150.0</td>\n",
              "      <td>3.343532</td>\n",
              "      <td>3.343532</td>\n",
              "      <td>37234.87327</td>\n",
              "      <td>760.799988</td>\n",
              "      <td>761.036160</td>\n",
              "      <td>1.812037</td>\n",
              "      <td>760.200012</td>\n",
              "      <td>760.378198</td>\n",
              "      <td>1.795501</td>\n",
              "      <td>1.089943</td>\n",
              "      <td>1.089943</td>\n",
              "      <td>22.0</td>\n",
              "      <td>410.0</td>\n",
              "      <td>409.931374</td>\n",
              "      <td>69.595012</td>\n",
              "      <td>410.0</td>\n",
              "      <td>410.200509</td>\n",
              "      <td>65.740786</td>\n",
              "      <td>6000.0</td>\n",
              "      <td>5988.303974</td>\n",
              "      <td>11.866623</td>\n",
              "      <td>3536.746794</td>\n",
              "      <td>3536.746794</td>\n",
              "      <td>74.0</td>\n",
              "      <td>26.0</td>\n",
              "      <td>26.002769</td>\n",
              "      <td>91.878288</td>\n",
              "      <td>81.0</td>\n",
              "      <td>80.669406</td>\n",
              "      <td>33.801514</td>\n",
              "      <td>81.0</td>\n",
              "      <td>80.989015</td>\n",
              "      <td>35.764862</td>\n",
              "      <td>29.859368</td>\n",
              "      <td>18.810354</td>\n",
              "      <td>1101.977778</td>\n",
              "      <td>948.567782</td>\n",
              "      <td>0.379366</td>\n",
              "      <td>178.387372</td>\n",
              "    </tr>\n",
              "  </tbody>\n",
              "</table>\n",
              "</div>"
            ],
            "text/plain": [
              "                 Time  FIC_1321_SP  ...  AI_151_PV  TI_252-1_PV\n",
              "0  17-Aug-20 00:00:00    60.519039  ...   0.377546   178.434269\n",
              "1  17-Aug-20 00:01:00    60.519039  ...   0.377306   178.422690\n",
              "2  17-Aug-20 00:02:00    60.519039  ...   0.377958   178.378130\n",
              "3  17-Aug-20 00:03:00    60.519039  ...   0.379097   178.333710\n",
              "4  17-Aug-20 00:04:00    60.519039  ...   0.379366   178.387372\n",
              "\n",
              "[5 rows x 46 columns]"
            ]
          },
          "metadata": {
            "tags": []
          },
          "execution_count": 10
        }
      ]
    },
    {
      "cell_type": "code",
      "metadata": {
        "colab": {
          "base_uri": "https://localhost:8080/"
        },
        "id": "m-nqbp4m_HR9",
        "outputId": "fa936c85-1477-42eb-c362-43a3cd467d12"
      },
      "source": [
        "print(df.shape);print(df2.shape)"
      ],
      "execution_count": 11,
      "outputs": [
        {
          "output_type": "stream",
          "text": [
            "(15840, 46)\n",
            "(15840, 2)\n"
          ],
          "name": "stdout"
        }
      ]
    },
    {
      "cell_type": "code",
      "metadata": {
        "id": "c9OPg8Wwg4yI",
        "colab": {
          "base_uri": "https://localhost:8080/",
          "height": 400
        },
        "outputId": "4fe62211-4c67-4c0a-a660-81db2f90a81e"
      },
      "source": [
        "import re, regex\n",
        "ddd=df['Time'].str\n",
        "# df['day_of_week']= ddd.split('.').str[-1]\n",
        "# df['time']= ddd.split('.').str[0]\n",
        "# df['day_of_week']=pd.to_datetime(df['day_of_week'], format='%H:%M', errors='ignore') #\n",
        "# df=df[['Time','day_of_week','-1-','-2-','-3-','-4-','-5-','out']]\n",
        "# df=df[['-1-','-2-','-3-','-4-','-5-','out']]\n",
        "df['CO2']= df2['CO2']\n",
        "df.head()"
      ],
      "execution_count": 12,
      "outputs": [
        {
          "output_type": "execute_result",
          "data": {
            "text/html": [
              "<div>\n",
              "<style scoped>\n",
              "    .dataframe tbody tr th:only-of-type {\n",
              "        vertical-align: middle;\n",
              "    }\n",
              "\n",
              "    .dataframe tbody tr th {\n",
              "        vertical-align: top;\n",
              "    }\n",
              "\n",
              "    .dataframe thead th {\n",
              "        text-align: right;\n",
              "    }\n",
              "</style>\n",
              "<table border=\"1\" class=\"dataframe\">\n",
              "  <thead>\n",
              "    <tr style=\"text-align: right;\">\n",
              "      <th></th>\n",
              "      <th>Time</th>\n",
              "      <th>FIC_1321_SP</th>\n",
              "      <th>FIC_1321_PV</th>\n",
              "      <th>FIC_1321_OUT</th>\n",
              "      <th>RIC_1311_SP</th>\n",
              "      <th>RIC_1311_PV</th>\n",
              "      <th>RIC_1311_OUT</th>\n",
              "      <th>RIC_1320_SP</th>\n",
              "      <th>RIC_1320_PV</th>\n",
              "      <th>RIC_1320_OUT</th>\n",
              "      <th>TIC_1150_SP</th>\n",
              "      <th>TIC_1150_PV</th>\n",
              "      <th>TIC_1150_OUT</th>\n",
              "      <th>TIC_1250_SP</th>\n",
              "      <th>TIC_1250_PV</th>\n",
              "      <th>TIC_1250_OUT</th>\n",
              "      <th>PDIC_1413_SP</th>\n",
              "      <th>PDIC_1413_PV</th>\n",
              "      <th>PDIC_1413_OUT</th>\n",
              "      <th>FIC_204_SP</th>\n",
              "      <th>FIC_204_PV</th>\n",
              "      <th>FIC_204_OUT</th>\n",
              "      <th>FIC_205_SP</th>\n",
              "      <th>FIC_205_PV</th>\n",
              "      <th>FIC_205_OUT</th>\n",
              "      <th>FIC_602_SP</th>\n",
              "      <th>FIC_602_PV</th>\n",
              "      <th>FIC_602_OUT</th>\n",
              "      <th>FIC_1360_SP</th>\n",
              "      <th>FIC_1360_PV</th>\n",
              "      <th>FIC_1360_OUT</th>\n",
              "      <th>PIC_329_SP</th>\n",
              "      <th>PIC_329_PV</th>\n",
              "      <th>PIC_329_OUT</th>\n",
              "      <th>FIC_202_SP</th>\n",
              "      <th>FIC_202_PV</th>\n",
              "      <th>FIC_202_OUT</th>\n",
              "      <th>FIC_203_SP</th>\n",
              "      <th>FIC_203_PV</th>\n",
              "      <th>FIC_203_OUT</th>\n",
              "      <th>TI_3733-1_PV</th>\n",
              "      <th>TI_3130_PV</th>\n",
              "      <th>TY_1329_PV</th>\n",
              "      <th>TY_1331_PV</th>\n",
              "      <th>AI_151_PV</th>\n",
              "      <th>TI_252-1_PV</th>\n",
              "      <th>CO2</th>\n",
              "    </tr>\n",
              "  </thead>\n",
              "  <tbody>\n",
              "    <tr>\n",
              "      <th>0</th>\n",
              "      <td>17-Aug-20 00:00:00</td>\n",
              "      <td>60.519039</td>\n",
              "      <td>60.491921</td>\n",
              "      <td>57.805900</td>\n",
              "      <td>3.317911</td>\n",
              "      <td>3.317911</td>\n",
              "      <td>21150.0</td>\n",
              "      <td>3.345023</td>\n",
              "      <td>3.345108</td>\n",
              "      <td>37228.85942</td>\n",
              "      <td>760.799988</td>\n",
              "      <td>761.044315</td>\n",
              "      <td>1.812243</td>\n",
              "      <td>760.200012</td>\n",
              "      <td>760.329042</td>\n",
              "      <td>1.795578</td>\n",
              "      <td>1.087846</td>\n",
              "      <td>1.087846</td>\n",
              "      <td>22.0</td>\n",
              "      <td>410.0</td>\n",
              "      <td>408.058692</td>\n",
              "      <td>69.331706</td>\n",
              "      <td>410.0</td>\n",
              "      <td>412.411950</td>\n",
              "      <td>65.635773</td>\n",
              "      <td>6000.0</td>\n",
              "      <td>5989.442423</td>\n",
              "      <td>11.809569</td>\n",
              "      <td>3554.202036</td>\n",
              "      <td>3554.202036</td>\n",
              "      <td>74.0</td>\n",
              "      <td>26.0</td>\n",
              "      <td>25.992372</td>\n",
              "      <td>92.594480</td>\n",
              "      <td>81.0</td>\n",
              "      <td>80.833493</td>\n",
              "      <td>33.525105</td>\n",
              "      <td>81.0</td>\n",
              "      <td>80.807097</td>\n",
              "      <td>35.470481</td>\n",
              "      <td>29.864918</td>\n",
              "      <td>18.835617</td>\n",
              "      <td>1101.628345</td>\n",
              "      <td>948.276040</td>\n",
              "      <td>0.377546</td>\n",
              "      <td>178.434269</td>\n",
              "      <td>291.252600</td>\n",
              "    </tr>\n",
              "    <tr>\n",
              "      <th>1</th>\n",
              "      <td>17-Aug-20 00:01:00</td>\n",
              "      <td>60.519039</td>\n",
              "      <td>60.573661</td>\n",
              "      <td>57.791111</td>\n",
              "      <td>3.317911</td>\n",
              "      <td>3.317911</td>\n",
              "      <td>21150.0</td>\n",
              "      <td>3.341907</td>\n",
              "      <td>3.342012</td>\n",
              "      <td>37228.29533</td>\n",
              "      <td>760.799988</td>\n",
              "      <td>761.042964</td>\n",
              "      <td>1.812041</td>\n",
              "      <td>760.200012</td>\n",
              "      <td>760.323124</td>\n",
              "      <td>1.795520</td>\n",
              "      <td>1.087690</td>\n",
              "      <td>1.087690</td>\n",
              "      <td>22.0</td>\n",
              "      <td>410.0</td>\n",
              "      <td>408.532078</td>\n",
              "      <td>69.470408</td>\n",
              "      <td>410.0</td>\n",
              "      <td>412.140233</td>\n",
              "      <td>65.640992</td>\n",
              "      <td>6000.0</td>\n",
              "      <td>5990.331913</td>\n",
              "      <td>11.819274</td>\n",
              "      <td>3552.880731</td>\n",
              "      <td>3552.880731</td>\n",
              "      <td>74.0</td>\n",
              "      <td>26.0</td>\n",
              "      <td>25.999317</td>\n",
              "      <td>93.633696</td>\n",
              "      <td>81.0</td>\n",
              "      <td>80.913462</td>\n",
              "      <td>33.588194</td>\n",
              "      <td>81.0</td>\n",
              "      <td>80.536010</td>\n",
              "      <td>35.563675</td>\n",
              "      <td>29.863531</td>\n",
              "      <td>18.806534</td>\n",
              "      <td>1101.652565</td>\n",
              "      <td>948.227688</td>\n",
              "      <td>0.377306</td>\n",
              "      <td>178.422690</td>\n",
              "      <td>291.656027</td>\n",
              "    </tr>\n",
              "    <tr>\n",
              "      <th>2</th>\n",
              "      <td>17-Aug-20 00:02:00</td>\n",
              "      <td>60.519039</td>\n",
              "      <td>60.525547</td>\n",
              "      <td>57.817259</td>\n",
              "      <td>3.317911</td>\n",
              "      <td>3.317911</td>\n",
              "      <td>21150.0</td>\n",
              "      <td>3.343107</td>\n",
              "      <td>3.343039</td>\n",
              "      <td>37243.92034</td>\n",
              "      <td>760.799988</td>\n",
              "      <td>761.041421</td>\n",
              "      <td>1.812067</td>\n",
              "      <td>760.200012</td>\n",
              "      <td>760.349170</td>\n",
              "      <td>1.795539</td>\n",
              "      <td>1.087369</td>\n",
              "      <td>1.087369</td>\n",
              "      <td>22.0</td>\n",
              "      <td>410.0</td>\n",
              "      <td>408.159187</td>\n",
              "      <td>69.575323</td>\n",
              "      <td>410.0</td>\n",
              "      <td>410.562369</td>\n",
              "      <td>65.731597</td>\n",
              "      <td>6000.0</td>\n",
              "      <td>5984.962090</td>\n",
              "      <td>11.842718</td>\n",
              "      <td>3545.332073</td>\n",
              "      <td>3545.332073</td>\n",
              "      <td>74.0</td>\n",
              "      <td>26.0</td>\n",
              "      <td>26.003898</td>\n",
              "      <td>93.751042</td>\n",
              "      <td>81.0</td>\n",
              "      <td>81.052741</td>\n",
              "      <td>33.730155</td>\n",
              "      <td>81.0</td>\n",
              "      <td>80.592873</td>\n",
              "      <td>35.613573</td>\n",
              "      <td>29.862143</td>\n",
              "      <td>18.804466</td>\n",
              "      <td>1101.737909</td>\n",
              "      <td>948.318011</td>\n",
              "      <td>0.377958</td>\n",
              "      <td>178.378130</td>\n",
              "      <td>288.467146</td>\n",
              "    </tr>\n",
              "    <tr>\n",
              "      <th>3</th>\n",
              "      <td>17-Aug-20 00:03:00</td>\n",
              "      <td>60.519039</td>\n",
              "      <td>60.503820</td>\n",
              "      <td>57.830657</td>\n",
              "      <td>3.317911</td>\n",
              "      <td>3.317911</td>\n",
              "      <td>21150.0</td>\n",
              "      <td>3.342583</td>\n",
              "      <td>3.342583</td>\n",
              "      <td>37235.57606</td>\n",
              "      <td>760.799988</td>\n",
              "      <td>761.042077</td>\n",
              "      <td>1.812122</td>\n",
              "      <td>760.200012</td>\n",
              "      <td>760.366613</td>\n",
              "      <td>1.795609</td>\n",
              "      <td>1.085633</td>\n",
              "      <td>1.085633</td>\n",
              "      <td>22.0</td>\n",
              "      <td>410.0</td>\n",
              "      <td>408.659043</td>\n",
              "      <td>69.568745</td>\n",
              "      <td>410.0</td>\n",
              "      <td>410.050967</td>\n",
              "      <td>65.744806</td>\n",
              "      <td>6000.0</td>\n",
              "      <td>5986.416733</td>\n",
              "      <td>11.854616</td>\n",
              "      <td>3542.121978</td>\n",
              "      <td>3542.121978</td>\n",
              "      <td>74.0</td>\n",
              "      <td>26.0</td>\n",
              "      <td>25.999462</td>\n",
              "      <td>93.342203</td>\n",
              "      <td>81.0</td>\n",
              "      <td>80.893861</td>\n",
              "      <td>33.772829</td>\n",
              "      <td>81.0</td>\n",
              "      <td>81.011394</td>\n",
              "      <td>35.753719</td>\n",
              "      <td>29.860755</td>\n",
              "      <td>18.823079</td>\n",
              "      <td>1101.876815</td>\n",
              "      <td>948.502915</td>\n",
              "      <td>0.379097</td>\n",
              "      <td>178.333710</td>\n",
              "      <td>282.867887</td>\n",
              "    </tr>\n",
              "    <tr>\n",
              "      <th>4</th>\n",
              "      <td>17-Aug-20 00:04:00</td>\n",
              "      <td>60.519039</td>\n",
              "      <td>60.520480</td>\n",
              "      <td>57.830769</td>\n",
              "      <td>3.317911</td>\n",
              "      <td>3.317911</td>\n",
              "      <td>21150.0</td>\n",
              "      <td>3.343532</td>\n",
              "      <td>3.343532</td>\n",
              "      <td>37234.87327</td>\n",
              "      <td>760.799988</td>\n",
              "      <td>761.036160</td>\n",
              "      <td>1.812037</td>\n",
              "      <td>760.200012</td>\n",
              "      <td>760.378198</td>\n",
              "      <td>1.795501</td>\n",
              "      <td>1.089943</td>\n",
              "      <td>1.089943</td>\n",
              "      <td>22.0</td>\n",
              "      <td>410.0</td>\n",
              "      <td>409.931374</td>\n",
              "      <td>69.595012</td>\n",
              "      <td>410.0</td>\n",
              "      <td>410.200509</td>\n",
              "      <td>65.740786</td>\n",
              "      <td>6000.0</td>\n",
              "      <td>5988.303974</td>\n",
              "      <td>11.866623</td>\n",
              "      <td>3536.746794</td>\n",
              "      <td>3536.746794</td>\n",
              "      <td>74.0</td>\n",
              "      <td>26.0</td>\n",
              "      <td>26.002769</td>\n",
              "      <td>91.878288</td>\n",
              "      <td>81.0</td>\n",
              "      <td>80.669406</td>\n",
              "      <td>33.801514</td>\n",
              "      <td>81.0</td>\n",
              "      <td>80.989015</td>\n",
              "      <td>35.764862</td>\n",
              "      <td>29.859368</td>\n",
              "      <td>18.810354</td>\n",
              "      <td>1101.977778</td>\n",
              "      <td>948.567782</td>\n",
              "      <td>0.379366</td>\n",
              "      <td>178.387372</td>\n",
              "      <td>283.057879</td>\n",
              "    </tr>\n",
              "  </tbody>\n",
              "</table>\n",
              "</div>"
            ],
            "text/plain": [
              "                 Time  FIC_1321_SP  ...  TI_252-1_PV         CO2\n",
              "0  17-Aug-20 00:00:00    60.519039  ...   178.434269  291.252600\n",
              "1  17-Aug-20 00:01:00    60.519039  ...   178.422690  291.656027\n",
              "2  17-Aug-20 00:02:00    60.519039  ...   178.378130  288.467146\n",
              "3  17-Aug-20 00:03:00    60.519039  ...   178.333710  282.867887\n",
              "4  17-Aug-20 00:04:00    60.519039  ...   178.387372  283.057879\n",
              "\n",
              "[5 rows x 47 columns]"
            ]
          },
          "metadata": {
            "tags": []
          },
          "execution_count": 12
        }
      ]
    },
    {
      "cell_type": "markdown",
      "metadata": {
        "id": "XdfXfXK2-CiG"
      },
      "source": [
        "# Forecasting Time Series data\n",
        "\n",
        "* Idea and some code taken from, and also OPSD time series data set explained here: https://www.dataquest.io/blog/tutorial-time-series-analysis-with-pandas/\n",
        "* Some code and approaches from: https://machinelearningmastery.com/how-to-develop-lstm-models-for-time-series-forecasting/\n",
        "* Nice tutorial: https://www.tensorflow.org/beta/tutorials/text/time_series"
      ]
    },
    {
      "cell_type": "code",
      "metadata": {
        "id": "VpENN2vGwbhU"
      },
      "source": [
        "%matplotlib inline\n",
        "\n",
        "import matplotlib.pyplot as plt\n",
        "# plt.xkcd()\n",
        "# plt.style.use('ggplot')\n",
        "%matplotlib inline\n",
        "\n",
        "import matplotlib as mpl\n",
        "mpl.rcParams['figure.figsize'] = (20, 8)"
      ],
      "execution_count": 13,
      "outputs": []
    },
    {
      "cell_type": "code",
      "metadata": {
        "id": "gC4wtNqGaYXL"
      },
      "source": [
        ""
      ],
      "execution_count": 13,
      "outputs": []
    },
    {
      "cell_type": "markdown",
      "metadata": {
        "id": "DSXpPlKravRq"
      },
      "source": [
        "https://ronakchhatbar.medium.com/box-cox-transformation-cba8263c5206\n",
        "![enter image description here](https://i.stack.imgur.com/9PKEF.png)"
      ]
    },
    {
      "cell_type": "code",
      "metadata": {
        "id": "hJnLP8VOaXda"
      },
      "source": [
        "# from scipy import stats\n",
        "# import pandas as pd\n",
        "# import numpy as np\n",
        "# import pylab \n",
        "# import matplotlib.pyplot as plt\n",
        "# import seaborn as sns\n",
        "# from scipy import stats\n",
        "# %matplotlib inline\n",
        "# from scipy.stats import skew\n",
        "# import numpy as np\n",
        "# from sklearn.preprocessing import power_transform\n",
        "# continuous=['-1-','-2-','-3-','-4-','-5-','out']\n",
        "# data_combine=df\n",
        "\n",
        "# sns.distplot(df['-1-'])\n",
        "# print(\"Skewness for the out Parameter:\",skew(df['out']))\n",
        "# sns.distplot(df['out'])\n",
        "# print(\"Skewness for the -1- Parameter:\",skew(df['-1-']))\n",
        "\n",
        "# stats.probplot(df['-1-'], dist='norm', plot=pylab)\n",
        "# pylab.show()\n",
        "# stats.probplot(df['out'], dist='norm', plot=pylab)\n",
        "# pylab.show()\n",
        "\n",
        "# skewed_box_cox, lmda = stats.boxcox(abs(df['-1-']))\n",
        "# sns.distplot(skewed_box_cox)"
      ],
      "execution_count": 14,
      "outputs": []
    },
    {
      "cell_type": "code",
      "metadata": {
        "id": "_UKHuMfy0SKV"
      },
      "source": [
        "# From https://colab.research.google.com/github/khalidmeister/Customer-Segmentation-using-Python/blob/master/Customer%20Segmentation%20in%20Python.ipynb#scrollTo=wsjXuL-Evmo-\n",
        "\n",
        "from scipy import stats\n",
        "import seaborn as sns, numpy as np\n",
        "\n",
        "def analyze_skewness(customers,x):\n",
        "    fig, ax = plt.subplots(2, 2, figsize=(5,5))\n",
        "    sns.distplot(customers[x], ax=ax[0,0]); #ax.set_title('Data'+ str(var)+'is :')\n",
        "    sns.distplot(np.log(customers[x]), ax=ax[0,1]);#plt.title('Data'+ str(var)+'np.log is :')\n",
        "    sns.distplot(np.sqrt(customers[x]), ax=ax[1,0]);#plt.title('Data'+ str(var)+'np.sqrt is :')\n",
        "    sns.distplot(stats.boxcox(customers[x])[0], ax=ax[1,1]); #plt.title('Data'+ str(var)+'stats.boxcox Trasnformation is :')\n",
        "    plt.tight_layout()\n",
        "    \n",
        "    plt.show()\n",
        "    \n",
        "    print(customers[x].skew().round(2))\n",
        "    print(np.log(customers[x]).skew().round(2))\n",
        "    print(np.sqrt(customers[x]).skew().round(2))\n",
        "    print(pd.Series(stats.boxcox(customers[x])[0]).skew().round(2))"
      ],
      "execution_count": 15,
      "outputs": []
    },
    {
      "cell_type": "code",
      "metadata": {
        "id": "SOZOSupOyCL0",
        "outputId": "5d5fe7f0-fecf-4aab-b8fd-08bb98a8023a",
        "colab": {
          "base_uri": "https://localhost:8080/",
          "height": 238
        }
      },
      "source": [
        "#https://colab.research.google.com/github/jhihan/Housing_Price_Kaggle/blob/master/Housing_Price.ipynb#scrollTo=6BggFAsxMVk3\n",
        "from scipy.stats import skew\n",
        "import numpy as np\n",
        "from sklearn.preprocessing import power_transform\n",
        "cols_plot = df.columns #['-1-', '-2-', 'out']\n",
        "data_combine=df\n",
        "for var in continuous:\n",
        "  analyze_skewness(abs(data_combine),var)\n",
        "  skewness=skew(data_combine[var])\n",
        "  print(skewness)\n",
        "  if abs(skewness) > 0.5:\n",
        "    print(skew(data_combine[var]))\n",
        "    print(var,\"too large\")\n",
        "    data_combine[var]=power_transform(data_combine[var].values.reshape(-1, 1), method='box-cox')\n",
        "    # data_combine[var]=np.log1p(data_combine[var]+1e-99)\n",
        "    print(skew(data_combine[var]))\n",
        "    print(var,\"after transformed\")"
      ],
      "execution_count": 16,
      "outputs": [
        {
          "output_type": "error",
          "ename": "NameError",
          "evalue": "ignored",
          "traceback": [
            "\u001b[0;31m---------------------------------------------------------------------------\u001b[0m",
            "\u001b[0;31mNameError\u001b[0m                                 Traceback (most recent call last)",
            "\u001b[0;32m<ipython-input-16-39995489484e>\u001b[0m in \u001b[0;36m<module>\u001b[0;34m()\u001b[0m\n\u001b[1;32m      5\u001b[0m \u001b[0mcols_plot\u001b[0m \u001b[0;34m=\u001b[0m \u001b[0mdf\u001b[0m\u001b[0;34m.\u001b[0m\u001b[0mcolumns\u001b[0m \u001b[0;31m#['-1-', '-2-', 'out']\u001b[0m\u001b[0;34m\u001b[0m\u001b[0;34m\u001b[0m\u001b[0m\n\u001b[1;32m      6\u001b[0m \u001b[0mdata_combine\u001b[0m\u001b[0;34m=\u001b[0m\u001b[0mdf\u001b[0m\u001b[0;34m\u001b[0m\u001b[0;34m\u001b[0m\u001b[0m\n\u001b[0;32m----> 7\u001b[0;31m \u001b[0;32mfor\u001b[0m \u001b[0mvar\u001b[0m \u001b[0;32min\u001b[0m \u001b[0mcontinuous\u001b[0m\u001b[0;34m:\u001b[0m\u001b[0;34m\u001b[0m\u001b[0;34m\u001b[0m\u001b[0m\n\u001b[0m\u001b[1;32m      8\u001b[0m   \u001b[0manalyze_skewness\u001b[0m\u001b[0;34m(\u001b[0m\u001b[0mabs\u001b[0m\u001b[0;34m(\u001b[0m\u001b[0mdata_combine\u001b[0m\u001b[0;34m)\u001b[0m\u001b[0;34m,\u001b[0m\u001b[0mvar\u001b[0m\u001b[0;34m)\u001b[0m\u001b[0;34m\u001b[0m\u001b[0;34m\u001b[0m\u001b[0m\n\u001b[1;32m      9\u001b[0m   \u001b[0mskewness\u001b[0m\u001b[0;34m=\u001b[0m\u001b[0mskew\u001b[0m\u001b[0;34m(\u001b[0m\u001b[0mdata_combine\u001b[0m\u001b[0;34m[\u001b[0m\u001b[0mvar\u001b[0m\u001b[0;34m]\u001b[0m\u001b[0;34m)\u001b[0m\u001b[0;34m\u001b[0m\u001b[0;34m\u001b[0m\u001b[0m\n",
            "\u001b[0;31mNameError\u001b[0m: name 'continuous' is not defined"
          ]
        }
      ]
    },
    {
      "cell_type": "code",
      "metadata": {
        "id": "avWooiRKz8Ab"
      },
      "source": [
        "cols_plot = df.columns #['-1-', '-2-', 'out']\n",
        "\n",
        "axes = data_combine[cols_plot].plot(marker='.', alpha=0.5, linestyle='None', subplots=True)\n",
        "for ax in axes:\n",
        "    ax.set_ylabel('Daily Totals (GWh)')"
      ],
      "execution_count": null,
      "outputs": []
    },
    {
      "cell_type": "code",
      "metadata": {
        "id": "aRAVr-BRvmpA"
      },
      "source": [
        "continuous=['-1-','-2-','-3-','-4-','-5-','out']\n",
        "data_combine=df\n",
        "for var in continuous:\n",
        "  analyze_skewness(abs(data_combine),var)"
      ],
      "execution_count": null,
      "outputs": []
    },
    {
      "cell_type": "code",
      "metadata": {
        "scrolled": false,
        "id": "_biTOu6xvmpB"
      },
      "source": [
        "fig, ax = plt.subplots(1, 2, figsize=(10,3))\n",
        "sns.distplot(customers['MonetaryValue'], ax=ax[0])\n",
        "sns.distplot(np.cbrt(customers['MonetaryValue']), ax=ax[1])\n",
        "plt.show()\n",
        "print(customers['MonetaryValue'].skew().round(2))\n",
        "print(np.cbrt(customers['MonetaryValue']).skew().round(2))"
      ],
      "execution_count": null,
      "outputs": []
    },
    {
      "cell_type": "code",
      "metadata": {
        "id": "UbyM0kU9vmpB"
      },
      "source": [
        "pd.Series(np.cbrt(customers['MonetaryValue'])).values"
      ],
      "execution_count": null,
      "outputs": []
    },
    {
      "cell_type": "code",
      "metadata": {
        "scrolled": false,
        "id": "ZYsF-ekgvmpC"
      },
      "source": [
        "# Set the Numbers\n",
        "customers_fix = pd.DataFrame()\n",
        "customers_fix[\"Recency\"] = stats.boxcox(customers['Recency'])[0]\n",
        "customers_fix[\"Frequency\"] = stats.boxcox(customers['Frequency'])[0]\n",
        "customers_fix[\"MonetaryValue\"] = pd.Series(np.cbrt(customers['MonetaryValue'])).values\n",
        "customers_fix.tail()"
      ],
      "execution_count": null,
      "outputs": []
    },
    {
      "cell_type": "code",
      "metadata": {
        "id": "iztUacrB_hEZ"
      },
      "source": [
        "import pandas as pd\n",
        "import numpy as np"
      ],
      "execution_count": null,
      "outputs": []
    },
    {
      "cell_type": "code",
      "metadata": {
        "id": "rSpXyDZ5MbgE"
      },
      "source": [
        "# for local\n",
        "# url = 'opsd_germany_daily.csv'\n",
        "\n",
        "# for colab\n",
        "url = 'https://raw.githubusercontent.com/jenfly/opsd/master/opsd_germany_daily.csv'\n",
        "\n",
        "# time_series_df = pd.read_csv(url, \n",
        "#                              sep=',', \n",
        "#                              index_col=0, # you can use the date as the index for pandas\n",
        "#                              parse_dates=[0]) # where is the time stamp?\n",
        "\n",
        "time_series_df=df;\n"
      ],
      "execution_count": null,
      "outputs": []
    },
    {
      "cell_type": "code",
      "metadata": {
        "id": "syBH3goFmYv-"
      },
      "source": [
        "time_series_df.head()"
      ],
      "execution_count": null,
      "outputs": []
    },
    {
      "cell_type": "code",
      "metadata": {
        "id": "Ffa-_1dBgqGs"
      },
      "source": [
        "# cols_plot = ['Consumption', 'Solar', 'Wind']\n",
        "\n",
        "cols_plot = df.columns #['-1-', '-2-', 'out']\n",
        "\n",
        "axes = time_series_df[cols_plot].plot(marker='.', alpha=0.5, linestyle='None', subplots=True)\n",
        "for ax in axes:\n",
        "    ax.set_ylabel('Daily Totals (GWh)')"
      ],
      "execution_count": null,
      "outputs": []
    },
    {
      "cell_type": "code",
      "metadata": {
        "id": "-FysdUznxI4l"
      },
      "source": [
        "axes = time_series_df.plot(marker='.', alpha=0.5, linestyle='None')\n",
        "plt.ylabel('Daily Totals (GWh)');"
      ],
      "execution_count": null,
      "outputs": []
    },
    {
      "cell_type": "markdown",
      "metadata": {
        "id": "0tO2mjuogqIw"
      },
      "source": [
        "## Can we predict each day's CO2 Production from its past?\n",
        "\n",
        "### We train on the years 2006 - 2016 and validate on 2017"
      ]
    },
    {
      "cell_type": "code",
      "metadata": {
        "id": "4Dz2rtk0gqIx"
      },
      "source": [
        "# CO2_Production = time_series_df['Consumption'].to_numpy()\n",
        "CO2_Production = time_series_df[df.columns[46]].to_numpy()\n",
        "print(df.columns[46])\n",
        "CO2_Production.shape"
      ],
      "execution_count": null,
      "outputs": []
    },
    {
      "cell_type": "code",
      "metadata": {
        "id": "_tSrx5VlgqIz"
      },
      "source": [
        "plt.title('CO2 from xxx to xxx')\n",
        "plt.plot(CO2_Production);"
      ],
      "execution_count": null,
      "outputs": []
    },
    {
      "cell_type": "markdown",
      "metadata": {
        "id": "4TtyRbMrgqIm"
      },
      "source": [
        "## Statistical Methods directly geared towards forecasting\n",
        "\n",
        "_Statistical Methods are often favorable: https://twitter.com/togelius/status/1173272424177119233_\n",
        "\n",
        "* https://machinelearningmastery.com/time-series-forecasting-methods-in-python-cheat-sheet/\n",
        "* https://towardsdatascience.com/an-end-to-end-project-on-time-series-analysis-and-forecasting-with-python-4835e6bf050b#targetText=Time%20series%20forecasting%20is%20the,forecasting%20retail%20sales%20time%20series.\n",
        "* https://www.dataquest.io/blog/tutorial-time-series-analysis-with-pandas/\n",
        "* https://research.fb.com/prophet-forecasting-at-scale/\n",
        "\n",
        "https://www.statsmodels.org\n",
        "* https://www.statsmodels.org/stable/examples/index.html#stats\n",
        "* https://www.statsmodels.org/stable/examples/notebooks/generated/tsa_arma_0.html\n",
        "* https://www.statsmodels.org/stable/tsa.html\n",
        "\n"
      ]
    },
    {
      "cell_type": "code",
      "metadata": {
        "id": "K4MmPhMggqIn"
      },
      "source": [
        "# import statsmodels.api as sm\n",
        "\n",
        "# decomposition = sm.tsa.seasonal_decompose(time_series_df['out'], model='additive')\n",
        "# decomposition.plot();"
      ],
      "execution_count": null,
      "outputs": []
    },
    {
      "cell_type": "code",
      "metadata": {
        "id": "195SrZF8gqI1"
      },
      "source": [
        "# derived from here: https://machinelearningmastery.com/how-to-develop-lstm-models-for-time-series-forecasting/\n",
        "\n",
        "# split a univariate sequence into samples\n",
        "def split_sequence(sequence, n_steps_in, n_steps_out):\n",
        "\tX, y = list(), list()\n",
        "\tfor i in range(len(sequence)):\n",
        "\t\t# find the end of this pattern\n",
        "\t\tend_ix = i + n_steps_in\n",
        "\t\tout_end_ix = end_ix + n_steps_out\n",
        "\t\t# check if we are beyond the sequence\n",
        "\t\tif out_end_ix > len(sequence):\n",
        "\t\t\tbreak\n",
        "\t\t# gather input and output parts of the pattern\n",
        "\t\tseq_x, seq_y = sequence[i:end_ix], sequence[end_ix:out_end_ix]\n",
        "\t\tX.append(seq_x)\n",
        "\t\ty.append(seq_y)\n",
        "\treturn np.array(X), np.array(y)"
      ],
      "execution_count": null,
      "outputs": []
    },
    {
      "cell_type": "markdown",
      "metadata": {
        "id": "0kUxX2dzgqI2"
      },
      "source": [
        "### How much of the past would we like for each individual prediction?"
      ]
    },
    {
      "cell_type": "code",
      "metadata": {
        "id": "WA5t_XJ6vMwd"
      },
      "source": [
        "#@title Prediction from n past days\n",
        "\n",
        "# https://colab.research.google.com/notebooks/forms.ipynb\n",
        "\n",
        "n_steps_in = 30 #@param {type:\"slider\", min:1, max:100, step:1}\n",
        "n_steps_out = 1"
      ],
      "execution_count": null,
      "outputs": []
    },
    {
      "cell_type": "code",
      "metadata": {
        "id": "sdUZkjEOgqI4"
      },
      "source": [
        "X, Y = split_sequence(CO2_Production, n_steps_in, n_steps_out)\n",
        "X.shape, Y.shape"
      ],
      "execution_count": null,
      "outputs": []
    },
    {
      "cell_type": "code",
      "metadata": {
        "id": "tA3fqtp_gqI6"
      },
      "source": [
        "X[0], Y[0]"
      ],
      "execution_count": null,
      "outputs": []
    },
    {
      "cell_type": "code",
      "metadata": {
        "id": "8xcZIPH-gqJC"
      },
      "source": [
        "# reshape from [samples, timesteps] to [samples, timesteps, features]\n",
        "n_features = 1\n",
        "X = X.reshape((X.shape[0], X.shape[1], n_features))\n",
        "X.shape"
      ],
      "execution_count": null,
      "outputs": []
    },
    {
      "cell_type": "code",
      "metadata": {
        "id": "zMQSRT3x4C6E"
      },
      "source": [
        "# we do a special test / train split, \n",
        "# we see how well we can predict 2017 as test/validation \n",
        "\n",
        "X_train = X[-5840:]\n",
        "Y_train = Y[-5840:]\n",
        "\n",
        "X_test = X[:10000]\n",
        "Y_test = Y[:10000]\n",
        "\n",
        "X_train.shape, Y_train.shape, X_test.shape, Y_test.shape"
      ],
      "execution_count": null,
      "outputs": []
    },
    {
      "cell_type": "markdown",
      "metadata": {
        "id": "suwSt8QoHymX"
      },
      "source": [
        "## Baslines"
      ]
    },
    {
      "cell_type": "markdown",
      "metadata": {
        "id": "UROsOFW44J1z"
      },
      "source": [
        "### R2 Metric: MSE and MAE are not speaking\n",
        "\n",
        "* R^2 score, the closer to 1 the better\n",
        "* loosely speaking: how much better is this than predicting the constant mean\n",
        "* 0 would mean just as good\n",
        "* 1 is perfect\n",
        "* neg. would mean even worse\n",
        "* it can become arbitrarily worse\n",
        "\n",
        "https://en.wikipedia.org/wiki/Coefficient_of_determination\n"
      ]
    },
    {
      "cell_type": "markdown",
      "metadata": {
        "id": "Duw0zLXSQQXa"
      },
      "source": [
        "### Rolling mean baseline"
      ]
    },
    {
      "cell_type": "code",
      "metadata": {
        "id": "qIIsGA1DQU1q"
      },
      "source": [
        "def rolling_mean_baseline(history):\n",
        "  return np.mean(history, axis=1)"
      ],
      "execution_count": null,
      "outputs": []
    },
    {
      "cell_type": "code",
      "metadata": {
        "id": "p1LaZfiNQdxJ"
      },
      "source": [
        "Y_pred_baseline_rolling = rolling_mean_baseline(X)\n",
        "Y_pred_baseline_rolling.shape"
      ],
      "execution_count": null,
      "outputs": []
    },
    {
      "cell_type": "code",
      "metadata": {
        "id": "yx62p8SIRZWf"
      },
      "source": [
        "# this gets really crowded, using a stride, makes it more readable\n",
        "stride = 5\n",
        "\n",
        "\n",
        "plt.plot(consumption[n_steps_in::stride], alpha=0.5, color='g')\n",
        "plt.plot(Y_pred_baseline_rolling[::stride], color='r', ls='dashed')\n",
        "\n",
        "plt.title('Prediction using the rolling mean');\n"
      ],
      "execution_count": null,
      "outputs": []
    },
    {
      "cell_type": "code",
      "metadata": {
        "id": "gA4UbecoRFY9"
      },
      "source": [
        "from sklearn.metrics import r2_score\n",
        "\n",
        "r2_score(Y, Y_pred_baseline_rolling)"
      ],
      "execution_count": null,
      "outputs": []
    },
    {
      "cell_type": "markdown",
      "metadata": {
        "id": "iG-WqR9GIPAs"
      },
      "source": [
        "### Baseline: Previous Value"
      ]
    },
    {
      "cell_type": "code",
      "metadata": {
        "id": "6QI3OU5iIWHf"
      },
      "source": [
        "def previous_value_baseline(history):\n",
        "  return history[:, -1]"
      ],
      "execution_count": null,
      "outputs": []
    },
    {
      "cell_type": "code",
      "metadata": {
        "id": "AOJK7ccnIeqU"
      },
      "source": [
        "Y_pred_baseline_previous_value = previous_value_baseline(X)\n",
        "Y_pred_baseline_previous_value.shape"
      ],
      "execution_count": null,
      "outputs": []
    },
    {
      "cell_type": "code",
      "metadata": {
        "id": "lUFq7pGrJ1R4"
      },
      "source": [
        "# this gets really crowded, using a stride, makes it more readable\n",
        "stride = 5\n",
        "\n",
        "\n",
        "plt.plot(consumption[n_steps_in::stride], alpha=0.5, color='g')\n",
        "plt.plot(Y_pred_baseline_previous_value[::stride], color='r', ls='dashed')\n",
        "plt.title('Prediction using the previous value');"
      ],
      "execution_count": null,
      "outputs": []
    },
    {
      "cell_type": "markdown",
      "metadata": {
        "id": "ByYejOAEKCJb"
      },
      "source": [
        "### This looks good at first sight, but wait for the R2 score\n",
        "\n",
        "It is (obviously) always off by one"
      ]
    },
    {
      "cell_type": "code",
      "metadata": {
        "id": "1saLt8piI2pz"
      },
      "source": [
        "from sklearn.metrics import r2_score\n",
        "\n",
        "r2_score(Y, Y_pred_baseline_previous_value)"
      ],
      "execution_count": null,
      "outputs": []
    },
    {
      "cell_type": "code",
      "metadata": {
        "id": "x3khIT_YH-Kt"
      },
      "source": [
        "# this gets really crowded, using a stride, makes it more readable\n",
        "stride = 1\n",
        "# too crwoded, zoom in\n",
        "window_start = 300\n",
        "window_end = 600\n",
        "\n",
        "plt.plot(consumption[n_steps_in+window_start:n_steps_in+window_end:stride], alpha=0.5, color='g')\n",
        "plt.plot(Y_pred_baseline_previous_value[window_start:window_end:stride], color='r', ls='dashed')\n",
        "\n",
        "plt.title('Prediction using the previous value, zooming in reveals its issue');"
      ],
      "execution_count": null,
      "outputs": []
    },
    {
      "cell_type": "markdown",
      "metadata": {
        "id": "Rj6F7YrJQM7W"
      },
      "source": [
        "## Prediction using RNNs and TensorFlow\n",
        "\n",
        "### Can we beat an r2 score around .20?"
      ]
    },
    {
      "cell_type": "code",
      "metadata": {
        "id": "WJJcT-mZh915"
      },
      "source": [
        "# Gives us a well defined version of tensorflow\n",
        "\n",
        "try:\n",
        "  # %tensorflow_version only exists in Colab.\n",
        "  %tensorflow_version 2.x\n",
        "except Exception:\n",
        "  pass"
      ],
      "execution_count": null,
      "outputs": []
    },
    {
      "cell_type": "code",
      "metadata": {
        "id": "3JQXpgcVh_TU"
      },
      "source": [
        "import tensorflow as tf\n",
        "print(tf.__version__)"
      ],
      "execution_count": null,
      "outputs": []
    },
    {
      "cell_type": "markdown",
      "metadata": {
        "id": "AiqLkXbV7Koz"
      },
      "source": [
        "### Just for the reference, what GPU are we running on?"
      ]
    },
    {
      "cell_type": "code",
      "metadata": {
        "id": "68CpMK9A7FB1"
      },
      "source": [
        "# What kind of GPU are we running on\n",
        "!nvidia-smi"
      ],
      "execution_count": null,
      "outputs": []
    },
    {
      "cell_type": "code",
      "metadata": {
        "id": "S-35S40P1tsz"
      },
      "source": [
        "# adapted from https://stackoverflow.com/a/42351397/1756489 and ported to TF 2\n",
        "# https://keras.io/metrics/#custom-metrics\n",
        "\n",
        "# only works on tensors while training, use sklearn version when using on numpy arrays\n",
        "\n",
        "def r2_metric(y_true, y_pred):\n",
        "  total_error = tf.reduce_sum(tf.square(tf.subtract(y_true, tf.reduce_mean(y_true))))\n",
        "  unexplained_error = tf.reduce_sum(tf.square(tf.subtract(y_true, y_pred)))\n",
        "  R_squared = tf.subtract(1.0, tf.divide(unexplained_error, total_error))\n",
        "  \n",
        "  return R_squared"
      ],
      "execution_count": null,
      "outputs": []
    },
    {
      "cell_type": "markdown",
      "metadata": {
        "id": "l8L9C6934MrI"
      },
      "source": [
        "### Training our model"
      ]
    },
    {
      "cell_type": "code",
      "metadata": {
        "id": "eBqseBkogqJF"
      },
      "source": [
        "import tensorflow as tf\n",
        "from tensorflow import keras\n",
        "from tensorflow.keras.layers import Dense, LSTM, GRU, SimpleRNN, Dropout, BatchNormalization\n",
        "from tensorflow.keras.models import Sequential, Model\n",
        "\n",
        "model = Sequential()\n",
        "\n",
        "# two layer model, known to work well\n",
        "# model.add(GRU(100, activation='relu', return_sequences=True, input_shape=(n_steps_in, n_features)))\n",
        "# model.add(GRU(100, activation='relu'))\n",
        "\n",
        "# trains faster, but also works\n",
        "# model.add(GRU(256, activation='relu', input_shape=(n_steps_in, n_features)))\n",
        "\n",
        "# one layer SimpleRNN seems to be enough for this data set\n",
        "model.add(SimpleRNN(256, activation='relu', input_shape=(n_steps_in, n_features)))\n",
        "\n",
        "# horrible results\n",
        "# model.add(LSTM(256, activation='relu', return_sequences=True, input_shape=(n_steps_in, n_features)))\n",
        "# model.add(LSTM(64, activation='relu'))\n",
        "\n",
        "# optional regularization\n",
        "# model.add(BatchNormalization())\n",
        "# model.add(Dropout(0.2))\n",
        "\n",
        "\n",
        "# combines final outputs from RNN into continous output\n",
        "model.add(Dense(n_steps_out))\n",
        "\n",
        "model.compile(optimizer='adam', loss='mse', metrics=[r2_metric])\n",
        "\n",
        "model.summary()"
      ],
      "execution_count": null,
      "outputs": []
    },
    {
      "cell_type": "code",
      "metadata": {
        "id": "ghB6htZngqJI"
      },
      "source": [
        "%%time\n",
        "\n",
        "batch_size = 32\n",
        "epochs=25\n",
        "\n",
        "history = model.fit(X_train, Y_train, \n",
        "                    batch_size=batch_size, \n",
        "                    epochs=epochs,\n",
        "                    validation_data=(X_test, Y_test),\n",
        "                    verbose=1)"
      ],
      "execution_count": null,
      "outputs": []
    },
    {
      "cell_type": "code",
      "metadata": {
        "id": "uVWOMO4c6lMJ"
      },
      "source": [
        "plt.yscale('log')\n",
        "plt.plot(history.history['loss'])\n",
        "plt.plot(history.history['val_loss'])\n",
        "plt.title('Log Loss over Epochs')\n",
        "\n",
        "plt.legend(['loss', 'validation loss']);"
      ],
      "execution_count": null,
      "outputs": []
    },
    {
      "cell_type": "code",
      "metadata": {
        "id": "9tWWb1zS3AU-"
      },
      "source": [
        "plt.yscale('log')\n",
        "plt.plot(history.history['r2_metric'])\n",
        "plt.plot(history.history['val_r2_metric'])\n",
        "plt.title('R^2 over Epochs')\n",
        "\n",
        "plt.legend(['r2', 'validation r2']);"
      ],
      "execution_count": null,
      "outputs": []
    },
    {
      "cell_type": "code",
      "metadata": {
        "id": "DHWMcQ9AgqJM"
      },
      "source": [
        "model.evaluate(X, Y, batch_size=batch_size, verbose=0)"
      ],
      "execution_count": null,
      "outputs": []
    },
    {
      "cell_type": "markdown",
      "metadata": {
        "id": "YvOC96GtJCww"
      },
      "source": [
        "### R2 for all data"
      ]
    },
    {
      "cell_type": "code",
      "metadata": {
        "id": "jZYz7XvB1xWX"
      },
      "source": [
        "from sklearn.metrics import r2_score\n",
        "\n",
        "Y_pred = model.predict(X)\n",
        "r2_score(Y, Y_pred)"
      ],
      "execution_count": null,
      "outputs": []
    },
    {
      "cell_type": "markdown",
      "metadata": {
        "id": "DXOSgrgtJF6V"
      },
      "source": [
        "### R2 for training data"
      ]
    },
    {
      "cell_type": "code",
      "metadata": {
        "id": "2ypqaKFYH0k4"
      },
      "source": [
        "Y_train_pred = model.predict(X_train)\n",
        "r2_score(Y_train, Y_train_pred)"
      ],
      "execution_count": null,
      "outputs": []
    },
    {
      "cell_type": "markdown",
      "metadata": {
        "id": "dNQaS9_gJPDW"
      },
      "source": [
        "### R2 for validation data"
      ]
    },
    {
      "cell_type": "code",
      "metadata": {
        "id": "SmKLiMPXJCJd"
      },
      "source": [
        "Y_test_pred = model.predict(X_test)\n",
        "r2_score(Y_test, Y_test_pred)"
      ],
      "execution_count": null,
      "outputs": []
    },
    {
      "cell_type": "markdown",
      "metadata": {
        "id": "XdPn5-0WFQxZ"
      },
      "source": [
        "## Let's plot predicted and true over each other"
      ]
    },
    {
      "cell_type": "code",
      "metadata": {
        "id": "8dz1upaGEj32"
      },
      "source": [
        "# this gets really crowded, using a stride, makes it more readable\n",
        "stride = 10\n",
        "\n",
        "# for the first 90 days we have no prediction, so get rid of them\n",
        "plt.plot(CO2_Production[n_steps_in::stride], alpha=0.5, color='g')\n",
        "plt.plot(Y_pred[::stride], color='r', ls='dashed')\n",
        "\n",
        "plt.title('All data, train and test combined, stride 10');\n"
      ],
      "execution_count": null,
      "outputs": []
    },
    {
      "cell_type": "code",
      "metadata": {
        "id": "pPwMaJTbHmx7"
      },
      "source": [
        "stride = 1\n",
        "\n",
        "\n",
        "plt.plot(CO2_Production[-2 * 365:-365:stride], alpha=0.5, color='g')\n",
        "plt.plot(Y_train_pred[-365::stride], color='r', ls='dashed')\n",
        "\n",
        "plt.title('Trained data, xxxx year only, no stride');\n"
      ],
      "execution_count": null,
      "outputs": []
    },
    {
      "cell_type": "code",
      "metadata": {
        "id": "YNrHtewZJWlh"
      },
      "source": [
        "stride = 1\n",
        "\n",
        "\n",
        "plt.plot(CO2_Production[-365::stride], alpha=0.5, color='g')\n",
        "plt.plot(Y_test_pred[::stride], color='r', ls='dashed')\n",
        "\n",
        "plt.title('Test data, xxx+1 Year, no stride');\n"
      ],
      "execution_count": null,
      "outputs": []
    },
    {
      "cell_type": "markdown",
      "metadata": {
        "id": "ysNM4XF8G6be"
      },
      "source": [
        "## Observation / Wrap-Up\n",
        "\n",
        "### overall a pretty good result\n",
        "* r2 score is pretty promising\n",
        "* defintely improved over baseline\n",
        "* no domain knowledge necessary\n",
        "\n",
        "### no dramatic difference between training and test data\n",
        "* neither in metrices\n",
        "* nor in visual inspection\n",
        "\n",
        "### peaks and valleys are underestimated very often\n",
        "* but often the most interesting part\n",
        "* this seems to be a common problem in time series prediction\n",
        "* it gets better we train the model for longer\n",
        "* also when we increase its capacity\n",
        "* on the other hand this might counter regularization\n"
      ]
    },
    {
      "cell_type": "markdown",
      "metadata": {
        "id": "-E1xfrBdLYjR"
      },
      "source": [
        "## Next Steps\n",
        "  \n",
        "### make use of seasonal decomposition\n",
        "* predict each of the components\n",
        "  * trend should be pretty easy\n",
        "  * residual shows clear spices on national holidays\n",
        "  * remove them\n",
        "  * the results might be noise only\n",
        "  * but maybe it is not, train a model on it to check\n",
        "  \n",
        "### have a more powerful statistical baseline\n",
        "* Use more powerful statistical models\n",
        "  * https://www.statsmodels.org/stable/tsa.html\n",
        "  * http://www.statsmodels.org/dev/tsa.html\n",
        "  * http://www.statsmodels.org/dev/vector_ar.html\n",
        "* MSBVAR (Markov-Switching, Bayesian, Vector Autoregression Models) might beat our model, but\n",
        "  * needs a lot of modelling \n",
        "  * does not seem readily available in the Python world (in R it would be)\n",
        "  \n"
      ]
    },
    {
      "cell_type": "code",
      "metadata": {
        "id": "HmE75UDsuyvu"
      },
      "source": [
        ""
      ],
      "execution_count": null,
      "outputs": []
    }
  ]
}